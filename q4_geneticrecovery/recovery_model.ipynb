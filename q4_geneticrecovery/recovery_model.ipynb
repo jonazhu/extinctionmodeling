{
 "cells": [
  {
   "cell_type": "markdown",
   "metadata": {},
   "source": [
    "In this notebook, we will be taking a different approach to looking at extinction. Here, we'll rescue a group of individuals that are at a critical density and look to see if genetic diversity can be recovered within this population. \n",
    "\n",
    "To model this, we'll assign a linear vector of SNPs to each individual. Each element in the vector is 0, 1, or 2 which corresponds to the number of mutant polymorphisms in the genome at that position. For example, if we have a G -> A mutation, we would put 0 for GG, 1 for GA or AG, or 2 for AA. This linear vector is based on a pair of binary vectors of the same length, which determines whether that SNP is the mutant on a specific homolog. The 0, 1, 2 vector is obviously calculated then by element-wise adding the two vectors.\n",
    "\n",
    "Thus, a population can be modeled as a matrix. The model will randomly generate a matrix or take in an input matrix from the user. What it needs to take in, however, is either a distance array or an LD array. For $n$ SNPs, this means an $n-1$ length vector of either base pair distances or LD values between the SNPs. That is, the 0th element of the linkage array corresponds to the linkage between the 0th and 1st SNPs. \n",
    "\n",
    "New individuals are created by choosing two individuals. For each parent, we 50/50 start with one of the two homologs, then pick the next mutant based on the provided distance/linkage disequilibrium. This goes until the end of the vector. The two vectors are then combined to make the new individual.\n",
    "\n",
    "We assume no other mutations, and that all parents die after each reproduction period, so all new individuals in the next generation are good. We also assume linear growth from provided critical number to provided thriving population number, but a critical assumption here is that one new individual is created per generation. This reflects (often) low reproduction rates with many endangered species, especially larger animals and mammals. "
   ]
  },
  {
   "cell_type": "code",
   "execution_count": 25,
   "metadata": {},
   "outputs": [],
   "source": [
    "import numpy as np\n",
    "import matplotlib.pyplot as plt"
   ]
  },
  {
   "cell_type": "code",
   "execution_count": 26,
   "metadata": {},
   "outputs": [],
   "source": [
    "def simulate_genetic_recovery(n_init,\n",
    "                              n_thriving,\n",
    "                              num_snps,\n",
    "                              ld_array = None,\n",
    "                              dist_array = None,\n",
    "                              snp_mats = None):\n",
    "    \"\"\"\n",
    "    Simulates a model of genetic recovery, where we start with a population of n_init and add one new individual\n",
    "    until we reach n_thriving. The new individual's genotype is determined with probabilities based on the \n",
    "    provided LD or distance array. \n",
    "\n",
    "    Inputs:\n",
    "    n_init: int, initial population size\n",
    "    n_thriving: int, target population size\n",
    "    num_snps: int, number of SNPs\n",
    "    ld_array: 1D array of length num_snps-1, optional. This array contains the pairwise LD values between the SNPs.\n",
    "    dist_array: 1D array of length num_snps-1, optional. This array contains the pairwise distances between the SNPs in megabases, or centimorgans.\n",
    "        Note that one of ld_array or dist_array must be provided, and if both are, ld_array will be used.\n",
    "    snp_mats: Array of 2D-arrays, optional. The number of 2D arrays must be equal to n_init. \n",
    "        Each 2D array must have shape (2, num_snps); each row is binary and contains the genotype of the individual on the paternal\n",
    "        or maternal chromosome. It doesn't particularly matter which is which, but the first row is assumed to be the paternal chromosome.\n",
    "        If this is not provided, the function will generate random genotypes for the initial population.\n",
    "\n",
    "    Returns:\n",
    "    snp_mats: Array of 2D-arrays. The number of 2D arrays is equal to n_thriving. \n",
    "        Each 2D array has shape (2, num_snps); each row is binary and contains the genotype of the individual on the paternal\n",
    "        or maternal chromosome. It doesn't particularly matter which is which, but the first row is assumed to be the paternal chromosome.\n",
    "    allele_freqs: a 2D array of shape (num_gens, num_snps). Each row is the allele frequency of the mutant SNPs in the population at that generation.\n",
    "        The first row is the initial population, and the last row is the final population.\n",
    "    \"\"\"\n",
    "\n",
    "    #first: one of ld_array or dist_array must be provided\n",
    "    if ld_array is None and dist_array is None:\n",
    "        raise ValueError(\"Either ld_array or dist_array must be provided\")\n",
    "    \n",
    "    #second: if snp_mats is not provided, generate random genotypes for the initial population\n",
    "    if snp_mats is None:\n",
    "        snp_mats = generate_random_genos(n_init, num_snps)\n",
    "    elif len(snp_mats) != n_init:\n",
    "        raise ValueError(\"The number of provided SNP matrices must be equal to n_init\")\n",
    "    elif snp_mats[0].shape[1] != num_snps:\n",
    "        raise ValueError(\"The number of SNPs in the provided SNP matrices must be equal to num_snps\")\n",
    "    elif len(snp_mats[0]) != 2:\n",
    "        raise ValueError(\"Each SNP matrix must have shape (2, num_snps)\")\n",
    "    \n",
    "    probs = None\n",
    "    #third: if ld_array is provided, check that it has the correct length; if it does, convert to probabilities\n",
    "    if ld_array is not None:\n",
    "        if len(ld_array) != num_snps - 1:\n",
    "            raise ValueError(\"The length of ld_array must be equal to num_snps - 1\")\n",
    "        else:\n",
    "            probs = convert_ld_to_probs(ld_array)\n",
    "\n",
    "    #fourth: if dist_array is provided, check that it has the correct length; if it does, convert to probabilities\n",
    "    if dist_array is not None:\n",
    "        if len(dist_array) != num_snps - 1:\n",
    "            raise ValueError(\"The length of dist_array must be equal to num_snps - 1\")\n",
    "        else:\n",
    "            probs = convert_dist_to_probs(dist_array)\n",
    "\n",
    "    allele_freqs = []\n",
    "    allele_freqs.append(calculate_allele_freqs(snp_mats))\n",
    "\n",
    "    for i in range(n_init, n_thriving):\n",
    "        next_gen = []\n",
    "        for j in range(i + 1):\n",
    "            #pick two random individuals from the population\n",
    "            ind1 = np.random.randint(0, len(snp_mats))\n",
    "            ind2 = np.random.randint(0, len(snp_mats))\n",
    "            while ind1 == ind2:\n",
    "                ind2 = np.random.randint(0, len(snp_mats)) #ensure they are different\n",
    "        \n",
    "            #using these, reproduce a new individual\n",
    "            new_ind = generate_new_ind(snp_mats[ind1], snp_mats[ind2], probs)\n",
    "\n",
    "            #add the new individual to the population\n",
    "            next_gen.append(new_ind)\n",
    "\n",
    "        snp_mats = next_gen\n",
    "        #calculate the allele frequencies\n",
    "        allele_freqs.append(calculate_allele_freqs(snp_mats))\n",
    "        #print the current population size\n",
    "        #print(\"Current population size: \", len(snp_mats))\n",
    "\n",
    "    return snp_mats, np.array(allele_freqs)\n",
    "\n",
    "#helper function: given a SNP matrix, calculate the allele frequencies\n",
    "def calculate_allele_freqs(snp_mats):\n",
    "    allele_freqs = np.zeros(snp_mats[0].shape[1]) #1D array of length num_snps\n",
    "    for i in range(len(snp_mats)):\n",
    "        for j in range(snp_mats[i].shape[1]):\n",
    "            allele_freqs[j] += np.sum(snp_mats[i][:, j]) / (2 * len(snp_mats))\n",
    "\n",
    "    return allele_freqs\n",
    "\n",
    "#helper function: generate random genotypes, given n_init and num_snps\n",
    "def generate_random_genos(n_init, num_snps):\n",
    "    snp_mats = []\n",
    "    for i in range(n_init):\n",
    "        snp_mat = np.random.randint(0, 2, size=(2, num_snps))\n",
    "        snp_mats.append(snp_mat)\n",
    "    return snp_mats\n",
    "\n",
    "#helper function: given an LD array, convert to probabilities\n",
    "#for simplicity: anything above 0.5 is kept as the original, and anything below is raised to 0.5\n",
    "def convert_ld_to_probs(ld_array):\n",
    "    probs = np.zeros(len(ld_array))\n",
    "    for i in range(len(ld_array)):\n",
    "        if ld_array[i] > 0.5:\n",
    "            probs[i] = ld_array[i]\n",
    "        else:\n",
    "            probs[i] = 0.5\n",
    "    return probs\n",
    "\n",
    "#helper function: given a distance array, convert to probabilities\n",
    "#for simplicity: anything distance x below 50 is converted to 1 - (x/100), and anything above is converted to 0.5\n",
    "def convert_dist_to_probs(dist_array):\n",
    "    probs = np.zeros(len(dist_array))\n",
    "    for i in range(len(dist_array)):\n",
    "        if dist_array[i] < 50:\n",
    "            probs[i] = 1 - (dist_array[i]/100)\n",
    "        else:\n",
    "            probs[i] = 0.5\n",
    "    return probs\n",
    "\n",
    "#helper function: given two individuals' SNP matrices and a probability array, generate a new individual\n",
    "def generate_new_ind(ind1, ind2, probs):\n",
    "    num_snps = ind1.shape[1]\n",
    "    new_ind = np.zeros((2, num_snps))\n",
    "\n",
    "    #first, the paternal chromosome from ind1\n",
    "    current_chrom = np.random.randint(0, 2) #0 or 1\n",
    "    for i in range(num_snps):\n",
    "        new_ind[0, i] = ind1[current_chrom, i]\n",
    "\n",
    "        #flip a coin to determine whether to use the other chromosome\n",
    "        if i == num_snps - 1:\n",
    "            continue\n",
    "\n",
    "        flip = np.random.rand()\n",
    "        if flip > probs[i]:\n",
    "            current_chrom = 1 - current_chrom\n",
    "\n",
    "    #second, the maternal chromosome from ind2\n",
    "    current_chrom = np.random.randint(0, 2) #0 or 1\n",
    "    for i in range(num_snps):\n",
    "        new_ind[1, i] = ind2[current_chrom, i]\n",
    "\n",
    "        #flip a coin to determine whether to use the other chromosome\n",
    "        if i == num_snps - 1:\n",
    "            continue\n",
    "\n",
    "        flip = np.random.rand()\n",
    "        if flip > probs[i]:\n",
    "            current_chrom = 1 - current_chrom\n",
    "\n",
    "    return new_ind\n"
   ]
  },
  {
   "cell_type": "code",
   "execution_count": 27,
   "metadata": {},
   "outputs": [
    {
     "data": {
      "text/plain": [
       "array([11.47716967, 95.81574085, 96.42801016, 37.84525738, 34.52207058,\n",
       "       24.66662958, 85.64952042, 18.13365667, 77.02270052, 73.82710805,\n",
       "       15.30332973, 61.75998936, 89.01493318, 17.57626467, 85.11957843,\n",
       "       12.69551149, 11.74199462, 17.97218162, 40.33474077, 37.76144428,\n",
       "       71.21582199, 33.7987927 , 44.07815265, 93.91775861, 74.63968673,\n",
       "       24.58047238, 99.15309715, 30.04793561, 40.57038602, 63.78800411,\n",
       "       53.04196498, 42.13799236, 14.25071155, 39.37580466, 22.34768962,\n",
       "       31.27163196, 85.28557893, 10.45774231, 44.45897514, 68.21267265,\n",
       "       21.94189326, 31.4803583 , 98.00112221, 62.98225819,  3.11723407,\n",
       "       64.80255606, 31.43310308, 53.25912844, 22.38985235, 73.67691756,\n",
       "       23.61159709,  4.86555255, 89.73671873, 24.65489275, 43.49237959,\n",
       "       45.73844742, 92.32588592,  4.93318448, 12.50428793, 74.11003452,\n",
       "       44.99080675, 56.25033642,  6.58257123, 32.66088934, 23.96540676,\n",
       "       79.52610207, 38.66348152, 36.678488  , 33.76786824, 32.34364408,\n",
       "       86.79270612,  1.66667695, 16.46173009, 85.22984737, 48.06661706,\n",
       "       17.2666704 ,  6.39848213, 64.92427396, 14.72996108, 18.17113034,\n",
       "       97.14194419, 45.73248939, 70.9011649 , 36.58391863, 54.21892412,\n",
       "       68.26500997, 92.49156176, 96.33970797, 37.97196215, 96.57896827,\n",
       "       18.94647045, 90.00269502, 94.09836401, 48.33300492, 50.33381263,\n",
       "       52.9533214 , 92.56036244, 70.74475485, 88.18815137])"
      ]
     },
     "execution_count": 27,
     "metadata": {},
     "output_type": "execute_result"
    }
   ],
   "source": [
    "distance_array = np.random.rand(99) * 100\n",
    "distance_array"
   ]
  },
  {
   "cell_type": "code",
   "execution_count": 28,
   "metadata": {},
   "outputs": [],
   "source": [
    "final_mats, allele_freqs = simulate_genetic_recovery(n_init=10,\n",
    "                                                    n_thriving=100,\n",
    "                                                    num_snps=100,\n",
    "                                                    dist_array=distance_array,\n",
    "                                                    snp_mats=None)"
   ]
  },
  {
   "cell_type": "code",
   "execution_count": 29,
   "metadata": {},
   "outputs": [
    {
     "data": {
      "image/png": "[encoded data removed]",
      "text/plain": [
       "<Figure size 640x480 with 1 Axes>"
      ]
     },
     "metadata": {},
     "output_type": "display_data"
    }
   ],
   "source": [
    "first_gen_freqs = allele_freqs[0]\n",
    "last_gen_freqs = allele_freqs[-1]\n",
    "x = np.arange(len(first_gen_freqs))\n",
    "plt.bar(x = x, height = first_gen_freqs, label='First Generation')\n",
    "plt.bar(x = x, height = last_gen_freqs, label='Last Generation')\n",
    "plt.xlabel('SNPs')\n",
    "plt.ylabel('Allele Frequencies')\n",
    "plt.title('Allele Frequencies in First and Last Generation')\n",
    "plt.legend()\n",
    "plt.show()"
   ]
  },
  {
   "cell_type": "code",
   "execution_count": 30,
   "metadata": {},
   "outputs": [
    {
     "data": {
      "image/png": "[encoded data removed]",
      "text/plain": [
       "<Figure size 1000x500 with 2 Axes>"
      ]
     },
     "metadata": {},
     "output_type": "display_data"
    }
   ],
   "source": [
    "#like above, but plot the two generations in separate subplots\n",
    "fig, axs = plt.subplots(1, 2, figsize=(10, 5))\n",
    "axs[0].bar(x = x, height = first_gen_freqs, color ='blue')\n",
    "axs[0].set_ylim(0, 1)\n",
    "axs[0].set_xlabel('SNPs')\n",
    "axs[0].set_ylabel('Allele Frequencies')\n",
    "axs[0].set_title('First Generation')\n",
    "axs[1].bar(x = x, height = last_gen_freqs, color='orange')\n",
    "axs[1].set_xlabel('SNPs')\n",
    "axs[1].set_ylabel('Allele Frequencies')\n",
    "axs[1].set_title('Last Generation')\n",
    "plt.tight_layout()\n",
    "plt.show()\n"
   ]
  },
  {
   "cell_type": "code",
   "execution_count": 31,
   "metadata": {},
   "outputs": [
    {
     "name": "stdout",
     "output_type": "stream",
     "text": [
      "Population-homogeneous SNPs in first generation:  0\n",
      "Population-homogeneous SNPs in last generation:  20\n"
     ]
    }
   ],
   "source": [
    "#for both first_gen_freqs and last_gen_freqs, determine the number of SNPs with frequency 0 or 1\n",
    "num_zero_freqs_first = np.sum(first_gen_freqs == 0)\n",
    "num_zero_freqs_last = np.sum(last_gen_freqs == 0)\n",
    "num_one_freqs_first = np.sum(first_gen_freqs == 1)\n",
    "num_one_freqs_last = np.sum(last_gen_freqs == 1)\n",
    "print(\"Population-homogeneous SNPs in first generation: \", num_zero_freqs_first + num_one_freqs_first)\n",
    "print(\"Population-homogeneous SNPs in last generation: \", num_zero_freqs_last + num_one_freqs_last)"
   ]
  },
  {
   "cell_type": "code",
   "execution_count": 32,
   "metadata": {},
   "outputs": [
    {
     "name": "stdout",
     "output_type": "stream",
     "text": [
      "Average population-homogeneous SNPs in first generation:  0.0\n",
      "Average population-homogeneous SNPs in last generation:  26.9\n"
     ]
    }
   ],
   "source": [
    "#run the above 10 times and take the average of the number of population-homogeneous SNPs\n",
    "num_zero_freqs_first = []\n",
    "num_zero_freqs_last = []\n",
    "num_one_freqs_first = []\n",
    "num_one_freqs_last = []\n",
    "\n",
    "for i in range(10):\n",
    "    final_mats, allele_freqs = simulate_genetic_recovery(n_init=10,\n",
    "                                                        n_thriving=100,\n",
    "                                                        num_snps=100,\n",
    "                                                        dist_array=distance_array,\n",
    "                                                        snp_mats=None)\n",
    "\n",
    "    first_gen_freqs = allele_freqs[0]\n",
    "    last_gen_freqs = allele_freqs[-1]\n",
    "\n",
    "    num_zero_freqs_first.append(np.sum(first_gen_freqs == 0))\n",
    "    num_zero_freqs_last.append(np.sum(last_gen_freqs == 0))\n",
    "    num_one_freqs_first.append(np.sum(first_gen_freqs == 1))\n",
    "    num_one_freqs_last.append(np.sum(last_gen_freqs == 1))\n",
    "\n",
    "print(\"Average population-homogeneous SNPs in first generation: \", np.mean(num_zero_freqs_first) + np.mean(num_one_freqs_first))\n",
    "print(\"Average population-homogeneous SNPs in last generation: \", np.mean(num_zero_freqs_last) + np.mean(num_one_freqs_last))"
   ]
  }
 ],
 "metadata": {
  "kernelspec": {
   "display_name": "base",
   "language": "python",
   "name": "python3"
  },
  "language_info": {
   "codemirror_mode": {
    "name": "ipython",
    "version": 3
   },
   "file_extension": ".py",
   "mimetype": "text/x-python",
   "name": "python",
   "nbconvert_exporter": "python",
   "pygments_lexer": "ipython3",
   "version": "3.12.7"
  }
 },
 "nbformat": 4,
 "nbformat_minor": 2
}
